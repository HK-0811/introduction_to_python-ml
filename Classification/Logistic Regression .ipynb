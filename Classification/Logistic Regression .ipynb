{
 "cells": [
  {
   "cell_type": "code",
   "execution_count": 1,
   "id": "292685fd",
   "metadata": {},
   "outputs": [],
   "source": [
    "import pandas as pd\n",
    "import numpy as np\n",
    "import matplotlib.pyplot as plt\n",
    "import seaborn as sns\n",
    "import statsmodels.api as sm\n",
    "from sklearn.model_selection import train_test_split"
   ]
  },
  {
   "cell_type": "markdown",
   "id": "ecec792b",
   "metadata": {},
   "source": [
    "# Classification Algorithms"
   ]
  },
  {
   "cell_type": "markdown",
   "id": "68c4ec50",
   "metadata": {},
   "source": [
    "- Classification involves categorizing data instances into predefined classes or categories based on their features.\n",
    "- It's a supervised learning task where the algorithm learns from labeled training data to make predictions about the class labels of unseen instances.\n",
    "-  The goal of classification is to build a model that accurately predicts the class labels of new instances based on their features, enabling automated decision-making and categorization.\n",
    "- There are several classification algorithms\n",
    "    - Logistic Regression\n",
    "    - K Nearest Neighbour\n",
    "    - Naive Bayes\n",
    "    - Decision Trees\n",
    "    - SVM\n",
    "    - ..and a few more"
   ]
  },
  {
   "cell_type": "markdown",
   "id": "df77319d",
   "metadata": {},
   "source": [
    "#  Logistic Regression"
   ]
  },
  {
   "cell_type": "markdown",
   "id": "d5e62ae7",
   "metadata": {},
   "source": [
    "-  Logistic regression is used when the dependent variable (outcome) is categorical, typically binary (e.g., 0 or 1, yes or no, true or false).\n",
    "- It models the probability that an observation belongs to a particular category based on the values of one or more independent variables (predictors)."
   ]
  },
  {
   "cell_type": "markdown",
   "id": "08ced996",
   "metadata": {},
   "source": [
    "\n",
    "Problem Statement :\n",
    "\n",
    "- Build a logistic regression model to predict the probability of active customers.\n",
    "- Find the significant features from the above model and build another logistic regression model with\n",
    "only the significant features.\n",
    "- Build a confusion matrix and print the accuracy of the model.\n"
   ]
  },
  {
   "cell_type": "markdown",
   "id": "96af1a83",
   "metadata": {},
   "source": [
    "SOLUTION :"
   ]
  },
  {
   "cell_type": "code",
   "execution_count": null,
   "id": "2644979a",
   "metadata": {},
   "outputs": [],
   "source": [
    "# Import dataset\n",
    "df = pd.read_csv(r\"E:\\HSNC\\SEM 2\\ML\\Fiberbits.csv\")"
   ]
  },
  {
   "cell_type": "code",
   "execution_count": 6,
   "id": "9cc008be",
   "metadata": {},
   "outputs": [
    {
     "data": {
      "text/html": [
       "<div>\n",
       "<style scoped>\n",
       "    .dataframe tbody tr th:only-of-type {\n",
       "        vertical-align: middle;\n",
       "    }\n",
       "\n",
       "    .dataframe tbody tr th {\n",
       "        vertical-align: top;\n",
       "    }\n",
       "\n",
       "    .dataframe thead th {\n",
       "        text-align: right;\n",
       "    }\n",
       "</style>\n",
       "<table border=\"1\" class=\"dataframe\">\n",
       "  <thead>\n",
       "    <tr style=\"text-align: right;\">\n",
       "      <th></th>\n",
       "      <th>active_cust</th>\n",
       "      <th>income</th>\n",
       "      <th>months_on_network</th>\n",
       "      <th>Num_complaints</th>\n",
       "      <th>number_plan_changes</th>\n",
       "      <th>relocated</th>\n",
       "      <th>monthly_bill</th>\n",
       "      <th>technical_issues_per_month</th>\n",
       "      <th>Speed_test_result</th>\n",
       "    </tr>\n",
       "  </thead>\n",
       "  <tbody>\n",
       "    <tr>\n",
       "      <th>0</th>\n",
       "      <td>0</td>\n",
       "      <td>1586</td>\n",
       "      <td>85</td>\n",
       "      <td>6</td>\n",
       "      <td>1</td>\n",
       "      <td>0</td>\n",
       "      <td>42</td>\n",
       "      <td>3</td>\n",
       "      <td>52</td>\n",
       "    </tr>\n",
       "    <tr>\n",
       "      <th>1</th>\n",
       "      <td>0</td>\n",
       "      <td>1581</td>\n",
       "      <td>85</td>\n",
       "      <td>6</td>\n",
       "      <td>1</td>\n",
       "      <td>0</td>\n",
       "      <td>66</td>\n",
       "      <td>4</td>\n",
       "      <td>66</td>\n",
       "    </tr>\n",
       "    <tr>\n",
       "      <th>2</th>\n",
       "      <td>0</td>\n",
       "      <td>1594</td>\n",
       "      <td>82</td>\n",
       "      <td>4</td>\n",
       "      <td>1</td>\n",
       "      <td>0</td>\n",
       "      <td>36</td>\n",
       "      <td>4</td>\n",
       "      <td>74</td>\n",
       "    </tr>\n",
       "    <tr>\n",
       "      <th>3</th>\n",
       "      <td>0</td>\n",
       "      <td>1594</td>\n",
       "      <td>82</td>\n",
       "      <td>5</td>\n",
       "      <td>1</td>\n",
       "      <td>0</td>\n",
       "      <td>37</td>\n",
       "      <td>4</td>\n",
       "      <td>67</td>\n",
       "    </tr>\n",
       "    <tr>\n",
       "      <th>4</th>\n",
       "      <td>1</td>\n",
       "      <td>1609</td>\n",
       "      <td>80</td>\n",
       "      <td>10</td>\n",
       "      <td>1</td>\n",
       "      <td>0</td>\n",
       "      <td>85</td>\n",
       "      <td>4</td>\n",
       "      <td>48</td>\n",
       "    </tr>\n",
       "  </tbody>\n",
       "</table>\n",
       "</div>"
      ],
      "text/plain": [
       "   active_cust  income  months_on_network  Num_complaints  \\\n",
       "0            0    1586                 85               6   \n",
       "1            0    1581                 85               6   \n",
       "2            0    1594                 82               4   \n",
       "3            0    1594                 82               5   \n",
       "4            1    1609                 80              10   \n",
       "\n",
       "   number_plan_changes  relocated  monthly_bill  technical_issues_per_month  \\\n",
       "0                    1          0            42                           3   \n",
       "1                    1          0            66                           4   \n",
       "2                    1          0            36                           4   \n",
       "3                    1          0            37                           4   \n",
       "4                    1          0            85                           4   \n",
       "\n",
       "   Speed_test_result  \n",
       "0                 52  \n",
       "1                 66  \n",
       "2                 74  \n",
       "3                 67  \n",
       "4                 48  "
      ]
     },
     "execution_count": 6,
     "metadata": {},
     "output_type": "execute_result"
    }
   ],
   "source": [
    "df.head(5)"
   ]
  },
  {
   "cell_type": "code",
   "execution_count": 29,
   "id": "5666be01",
   "metadata": {},
   "outputs": [
    {
     "name": "stdout",
     "output_type": "stream",
     "text": [
      "<class 'pandas.core.frame.DataFrame'>\n",
      "RangeIndex: 100000 entries, 0 to 99999\n",
      "Data columns (total 9 columns):\n",
      " #   Column                      Non-Null Count   Dtype\n",
      "---  ------                      --------------   -----\n",
      " 0   active_cust                 100000 non-null  int64\n",
      " 1   income                      100000 non-null  int64\n",
      " 2   months_on_network           100000 non-null  int64\n",
      " 3   Num_complaints              100000 non-null  int64\n",
      " 4   number_plan_changes         100000 non-null  int64\n",
      " 5   relocated                   100000 non-null  int64\n",
      " 6   monthly_bill                100000 non-null  int64\n",
      " 7   technical_issues_per_month  100000 non-null  int64\n",
      " 8   Speed_test_result           100000 non-null  int64\n",
      "dtypes: int64(9)\n",
      "memory usage: 6.9 MB\n"
     ]
    }
   ],
   "source": [
    "# Info of data\n",
    "df.info()"
   ]
  },
  {
   "cell_type": "code",
   "execution_count": 7,
   "id": "f4f0795c",
   "metadata": {},
   "outputs": [
    {
     "data": {
      "text/plain": [
       "False    99985\n",
       "True        15\n",
       "dtype: int64"
      ]
     },
     "execution_count": 7,
     "metadata": {},
     "output_type": "execute_result"
    }
   ],
   "source": [
    "# Checking for duplicate values\n",
    "df.duplicated().value_counts()"
   ]
  },
  {
   "cell_type": "code",
   "execution_count": 8,
   "id": "b18b5312",
   "metadata": {},
   "outputs": [],
   "source": [
    "# Dropping duuplicate values\n",
    "df.drop_duplicates(inplace=True)"
   ]
  },
  {
   "cell_type": "code",
   "execution_count": 9,
   "id": "985a15cb",
   "metadata": {},
   "outputs": [
    {
     "data": {
      "text/plain": [
       "False    99985\n",
       "dtype: int64"
      ]
     },
     "execution_count": 9,
     "metadata": {},
     "output_type": "execute_result"
    }
   ],
   "source": [
    "df.duplicated().value_counts()"
   ]
  },
  {
   "cell_type": "code",
   "execution_count": 10,
   "id": "91c01232",
   "metadata": {},
   "outputs": [
    {
     "data": {
      "text/plain": [
       "<Axes: >"
      ]
     },
     "execution_count": 10,
     "metadata": {},
     "output_type": "execute_result"
    },
    {
     "data": {
      "image/png": "[encoded data removed]",
      "text/plain": [
       "<Figure size 640x480 with 1 Axes>"
      ]
     },
     "metadata": {},
     "output_type": "display_data"
    }
   ],
   "source": [
    "# Checking for outliers\n",
    "# Box Plot\n",
    "import seaborn as sns\n",
    "sns.boxplot(df['income'])"
   ]
  },
  {
   "cell_type": "code",
   "execution_count": 23,
   "id": "2ae88b83",
   "metadata": {},
   "outputs": [],
   "source": [
    "# Removing outliers\n",
    "for x in df.index:\n",
    "    if df.loc[x,'income']>200000:\n",
    "        df.drop(x,inplace=True)"
   ]
  },
  {
   "cell_type": "code",
   "execution_count": 24,
   "id": "897589fd",
   "metadata": {},
   "outputs": [
    {
     "data": {
      "text/plain": [
       "<Axes: >"
      ]
     },
     "execution_count": 24,
     "metadata": {},
     "output_type": "execute_result"
    },
    {
     "data": {
      "image/png": "[encoded data removed]",
      "text/plain": [
       "<Figure size 640x480 with 1 Axes>"
      ]
     },
     "metadata": {},
     "output_type": "display_data"
    }
   ],
   "source": [
    "# Visuallizing after removing outliers\n",
    "# Box Plot\n",
    "import seaborn as sns\n",
    "sns.boxplot(df['income'])"
   ]
  },
  {
   "cell_type": "code",
   "execution_count": 26,
   "id": "88a1132a",
   "metadata": {},
   "outputs": [],
   "source": [
    "# Independent variable\n",
    "# As we can see in the dataset \"active_cust\" is dependent variable\n",
    "# we consider all other variables to be independent\n",
    "x = df.iloc[:,1:] "
   ]
  },
  {
   "cell_type": "code",
   "execution_count": 27,
   "id": "0d77cb8a",
   "metadata": {},
   "outputs": [],
   "source": [
    "# Dependent variable\n",
    "# It is binary aswell\n",
    "y = df.iloc[:,0]"
   ]
  },
  {
   "cell_type": "code",
   "execution_count": 25,
   "id": "8107b36f",
   "metadata": {},
   "outputs": [
    {
     "data": {
      "text/html": [
       "<div>\n",
       "<style scoped>\n",
       "    .dataframe tbody tr th:only-of-type {\n",
       "        vertical-align: middle;\n",
       "    }\n",
       "\n",
       "    .dataframe tbody tr th {\n",
       "        vertical-align: top;\n",
       "    }\n",
       "\n",
       "    .dataframe thead th {\n",
       "        text-align: right;\n",
       "    }\n",
       "</style>\n",
       "<table border=\"1\" class=\"dataframe\">\n",
       "  <thead>\n",
       "    <tr style=\"text-align: right;\">\n",
       "      <th></th>\n",
       "      <th>active_cust</th>\n",
       "      <th>income</th>\n",
       "      <th>months_on_network</th>\n",
       "      <th>Num_complaints</th>\n",
       "      <th>number_plan_changes</th>\n",
       "      <th>relocated</th>\n",
       "      <th>monthly_bill</th>\n",
       "      <th>technical_issues_per_month</th>\n",
       "      <th>Speed_test_result</th>\n",
       "    </tr>\n",
       "  </thead>\n",
       "  <tbody>\n",
       "    <tr>\n",
       "      <th>count</th>\n",
       "      <td>99971.000000</td>\n",
       "      <td>99971.000000</td>\n",
       "      <td>99971.000000</td>\n",
       "      <td>99971.000000</td>\n",
       "      <td>99971.000000</td>\n",
       "      <td>99971.000000</td>\n",
       "      <td>99971.000000</td>\n",
       "      <td>99971.000000</td>\n",
       "      <td>99971.000000</td>\n",
       "    </tr>\n",
       "    <tr>\n",
       "      <th>mean</th>\n",
       "      <td>0.578518</td>\n",
       "      <td>1823.338048</td>\n",
       "      <td>58.414360</td>\n",
       "      <td>6.014064</td>\n",
       "      <td>1.385462</td>\n",
       "      <td>0.123496</td>\n",
       "      <td>54.887867</td>\n",
       "      <td>3.885517</td>\n",
       "      <td>53.485661</td>\n",
       "    </tr>\n",
       "    <tr>\n",
       "      <th>std</th>\n",
       "      <td>0.493799</td>\n",
       "      <td>283.935636</td>\n",
       "      <td>18.622342</td>\n",
       "      <td>2.731355</td>\n",
       "      <td>1.616959</td>\n",
       "      <td>0.329007</td>\n",
       "      <td>26.227189</td>\n",
       "      <td>1.690711</td>\n",
       "      <td>19.174216</td>\n",
       "    </tr>\n",
       "    <tr>\n",
       "      <th>min</th>\n",
       "      <td>0.000000</td>\n",
       "      <td>1130.000000</td>\n",
       "      <td>-16.000000</td>\n",
       "      <td>0.000000</td>\n",
       "      <td>0.000000</td>\n",
       "      <td>0.000000</td>\n",
       "      <td>10.000000</td>\n",
       "      <td>2.000000</td>\n",
       "      <td>15.000000</td>\n",
       "    </tr>\n",
       "    <tr>\n",
       "      <th>25%</th>\n",
       "      <td>0.000000</td>\n",
       "      <td>1674.000000</td>\n",
       "      <td>47.000000</td>\n",
       "      <td>5.000000</td>\n",
       "      <td>0.000000</td>\n",
       "      <td>0.000000</td>\n",
       "      <td>32.000000</td>\n",
       "      <td>3.000000</td>\n",
       "      <td>40.000000</td>\n",
       "    </tr>\n",
       "    <tr>\n",
       "      <th>50%</th>\n",
       "      <td>1.000000</td>\n",
       "      <td>1805.000000</td>\n",
       "      <td>56.000000</td>\n",
       "      <td>6.000000</td>\n",
       "      <td>1.000000</td>\n",
       "      <td>0.000000</td>\n",
       "      <td>55.000000</td>\n",
       "      <td>4.000000</td>\n",
       "      <td>54.000000</td>\n",
       "    </tr>\n",
       "    <tr>\n",
       "      <th>75%</th>\n",
       "      <td>1.000000</td>\n",
       "      <td>1907.000000</td>\n",
       "      <td>70.000000</td>\n",
       "      <td>8.000000</td>\n",
       "      <td>2.000000</td>\n",
       "      <td>0.000000</td>\n",
       "      <td>78.000000</td>\n",
       "      <td>5.000000</td>\n",
       "      <td>68.000000</td>\n",
       "    </tr>\n",
       "    <tr>\n",
       "      <th>max</th>\n",
       "      <td>1.000000</td>\n",
       "      <td>21114.000000</td>\n",
       "      <td>449.000000</td>\n",
       "      <td>10.000000</td>\n",
       "      <td>9.000000</td>\n",
       "      <td>1.000000</td>\n",
       "      <td>100.000000</td>\n",
       "      <td>12.000000</td>\n",
       "      <td>90.000000</td>\n",
       "    </tr>\n",
       "  </tbody>\n",
       "</table>\n",
       "</div>"
      ],
      "text/plain": [
       "        active_cust        income  months_on_network  Num_complaints  \\\n",
       "count  99971.000000  99971.000000       99971.000000    99971.000000   \n",
       "mean       0.578518   1823.338048          58.414360        6.014064   \n",
       "std        0.493799    283.935636          18.622342        2.731355   \n",
       "min        0.000000   1130.000000         -16.000000        0.000000   \n",
       "25%        0.000000   1674.000000          47.000000        5.000000   \n",
       "50%        1.000000   1805.000000          56.000000        6.000000   \n",
       "75%        1.000000   1907.000000          70.000000        8.000000   \n",
       "max        1.000000  21114.000000         449.000000       10.000000   \n",
       "\n",
       "       number_plan_changes     relocated  monthly_bill  \\\n",
       "count         99971.000000  99971.000000  99971.000000   \n",
       "mean              1.385462      0.123496     54.887867   \n",
       "std               1.616959      0.329007     26.227189   \n",
       "min               0.000000      0.000000     10.000000   \n",
       "25%               0.000000      0.000000     32.000000   \n",
       "50%               1.000000      0.000000     55.000000   \n",
       "75%               2.000000      0.000000     78.000000   \n",
       "max               9.000000      1.000000    100.000000   \n",
       "\n",
       "       technical_issues_per_month  Speed_test_result  \n",
       "count                99971.000000       99971.000000  \n",
       "mean                     3.885517          53.485661  \n",
       "std                      1.690711          19.174216  \n",
       "min                      2.000000          15.000000  \n",
       "25%                      3.000000          40.000000  \n",
       "50%                      4.000000          54.000000  \n",
       "75%                      5.000000          68.000000  \n",
       "max                     12.000000          90.000000  "
      ]
     },
     "execution_count": 25,
     "metadata": {},
     "output_type": "execute_result"
    }
   ],
   "source": [
    "df.describe()"
   ]
  },
  {
   "cell_type": "code",
   "execution_count": 28,
   "id": "bbc38cbc",
   "metadata": {},
   "outputs": [],
   "source": [
    "# StandardScaler is used for standardization\n",
    "# Standardization means it scales the features (variables) so that they have a mean of 0 and a standard deviation of 1.\n",
    "from sklearn import preprocessing\n",
    "X = preprocessing.StandardScaler().fit(x).transform(x)"
   ]
  },
  {
   "cell_type": "code",
   "execution_count": 29,
   "id": "03d99a25",
   "metadata": {},
   "outputs": [],
   "source": [
    "# Initializing training and testing data\n",
    "X_train,X_test,y_train,y_test = train_test_split(X,y,test_size=0.25,random_state = 1)"
   ]
  },
  {
   "cell_type": "code",
   "execution_count": 30,
   "id": "86bf1b2f",
   "metadata": {},
   "outputs": [
    {
     "data": {
      "text/html": [
       "<style>#sk-container-id-1 {color: black;}#sk-container-id-1 pre{padding: 0;}#sk-container-id-1 div.sk-toggleable {background-color: white;}#sk-container-id-1 label.sk-toggleable__label {cursor: pointer;display: block;width: 100%;margin-bottom: 0;padding: 0.3em;box-sizing: border-box;text-align: center;}#sk-container-id-1 label.sk-toggleable__label-arrow:before {content: \"▸\";float: left;margin-right: 0.25em;color: #696969;}#sk-container-id-1 label.sk-toggleable__label-arrow:hover:before {color: black;}#sk-container-id-1 div.sk-estimator:hover label.sk-toggleable__label-arrow:before {color: black;}#sk-container-id-1 div.sk-toggleable__content {max-height: 0;max-width: 0;overflow: hidden;text-align: left;background-color: #f0f8ff;}#sk-container-id-1 div.sk-toggleable__content pre {margin: 0.2em;color: black;border-radius: 0.25em;background-color: #f0f8ff;}#sk-container-id-1 input.sk-toggleable__control:checked~div.sk-toggleable__content {max-height: 200px;max-width: 100%;overflow: auto;}#sk-container-id-1 input.sk-toggleable__control:checked~label.sk-toggleable__label-arrow:before {content: \"▾\";}#sk-container-id-1 div.sk-estimator input.sk-toggleable__control:checked~label.sk-toggleable__label {background-color: #d4ebff;}#sk-container-id-1 div.sk-label input.sk-toggleable__control:checked~label.sk-toggleable__label {background-color: #d4ebff;}#sk-container-id-1 input.sk-hidden--visually {border: 0;clip: rect(1px 1px 1px 1px);clip: rect(1px, 1px, 1px, 1px);height: 1px;margin: -1px;overflow: hidden;padding: 0;position: absolute;width: 1px;}#sk-container-id-1 div.sk-estimator {font-family: monospace;background-color: #f0f8ff;border: 1px dotted black;border-radius: 0.25em;box-sizing: border-box;margin-bottom: 0.5em;}#sk-container-id-1 div.sk-estimator:hover {background-color: #d4ebff;}#sk-container-id-1 div.sk-parallel-item::after {content: \"\";width: 100%;border-bottom: 1px solid gray;flex-grow: 1;}#sk-container-id-1 div.sk-label:hover label.sk-toggleable__label {background-color: #d4ebff;}#sk-container-id-1 div.sk-serial::before {content: \"\";position: absolute;border-left: 1px solid gray;box-sizing: border-box;top: 0;bottom: 0;left: 50%;z-index: 0;}#sk-container-id-1 div.sk-serial {display: flex;flex-direction: column;align-items: center;background-color: white;padding-right: 0.2em;padding-left: 0.2em;position: relative;}#sk-container-id-1 div.sk-item {position: relative;z-index: 1;}#sk-container-id-1 div.sk-parallel {display: flex;align-items: stretch;justify-content: center;background-color: white;position: relative;}#sk-container-id-1 div.sk-item::before, #sk-container-id-1 div.sk-parallel-item::before {content: \"\";position: absolute;border-left: 1px solid gray;box-sizing: border-box;top: 0;bottom: 0;left: 50%;z-index: -1;}#sk-container-id-1 div.sk-parallel-item {display: flex;flex-direction: column;z-index: 1;position: relative;background-color: white;}#sk-container-id-1 div.sk-parallel-item:first-child::after {align-self: flex-end;width: 50%;}#sk-container-id-1 div.sk-parallel-item:last-child::after {align-self: flex-start;width: 50%;}#sk-container-id-1 div.sk-parallel-item:only-child::after {width: 0;}#sk-container-id-1 div.sk-dashed-wrapped {border: 1px dashed gray;margin: 0 0.4em 0.5em 0.4em;box-sizing: border-box;padding-bottom: 0.4em;background-color: white;}#sk-container-id-1 div.sk-label label {font-family: monospace;font-weight: bold;display: inline-block;line-height: 1.2em;}#sk-container-id-1 div.sk-label-container {text-align: center;}#sk-container-id-1 div.sk-container {/* jupyter's `normalize.less` sets `[hidden] { display: none; }` but bootstrap.min.css set `[hidden] { display: none !important; }` so we also need the `!important` here to be able to override the default hidden behavior on the sphinx rendered scikit-learn.org. See: https://github.com/scikit-learn/scikit-learn/issues/21755 */display: inline-block !important;position: relative;}#sk-container-id-1 div.sk-text-repr-fallback {display: none;}</style><div id=\"sk-container-id-1\" class=\"sk-top-container\"><div class=\"sk-text-repr-fallback\"><pre>LogisticRegression()</pre><b>In a Jupyter environment, please rerun this cell to show the HTML representation or trust the notebook. <br />On GitHub, the HTML representation is unable to render, please try loading this page with nbviewer.org.</b></div><div class=\"sk-container\" hidden><div class=\"sk-item\"><div class=\"sk-estimator sk-toggleable\"><input class=\"sk-toggleable__control sk-hidden--visually\" id=\"sk-estimator-id-1\" type=\"checkbox\" checked><label for=\"sk-estimator-id-1\" class=\"sk-toggleable__label sk-toggleable__label-arrow\">LogisticRegression</label><div class=\"sk-toggleable__content\"><pre>LogisticRegression()</pre></div></div></div></div></div>"
      ],
      "text/plain": [
       "LogisticRegression()"
      ]
     },
     "execution_count": 30,
     "metadata": {},
     "output_type": "execute_result"
    }
   ],
   "source": [
    "# Training the data\n",
    "from sklearn.linear_model import LogisticRegression\n",
    "LR = LogisticRegression().fit(X_train,y_train)\n",
    "LR"
   ]
  },
  {
   "cell_type": "code",
   "execution_count": 31,
   "id": "2f53178e",
   "metadata": {},
   "outputs": [],
   "source": [
    "# Predicting the data based upon training model\n",
    "y_pred = LR.predict(X_test)"
   ]
  },
  {
   "cell_type": "code",
   "execution_count": 32,
   "id": "019ff911",
   "metadata": {},
   "outputs": [
    {
     "data": {
      "text/plain": [
       "array([1, 1, 1, ..., 1, 1, 1], dtype=int64)"
      ]
     },
     "execution_count": 32,
     "metadata": {},
     "output_type": "execute_result"
    }
   ],
   "source": [
    "y_pred"
   ]
  },
  {
   "cell_type": "code",
   "execution_count": 64,
   "id": "9018f345",
   "metadata": {},
   "outputs": [
    {
     "data": {
      "text/plain": [
       "0.8658824470851838"
      ]
     },
     "execution_count": 64,
     "metadata": {},
     "output_type": "execute_result"
    }
   ],
   "source": [
    "# Checking the accuracy score\n",
    "from sklearn.metrics import accuracy_score\n",
    "accuracy_score(y_test,y_pred)"
   ]
  },
  {
   "cell_type": "code",
   "execution_count": 34,
   "id": "3369042a",
   "metadata": {},
   "outputs": [
    {
     "data": {
      "text/plain": [
       "array([[ 8580,  1902],\n",
       "       [ 1450, 13061]], dtype=int64)"
      ]
     },
     "execution_count": 34,
     "metadata": {},
     "output_type": "execute_result"
    }
   ],
   "source": [
    "# Creating confusion matrix to calculate precision and recall\n",
    "# A confusion matrix is a grid that helps us see how well a classification model is doing by comparing its predictions with the actual outcomes. It shows us where the model is making correct predictions and where it's getting confused.\n",
    "from sklearn.metrics import confusion_matrix\n",
    "con_matrix = confusion_matrix(y_test,y_pred)\n",
    "con_matrix"
   ]
  },
  {
   "cell_type": "markdown",
   "id": "e21332f1",
   "metadata": {},
   "source": [
    "# Confusion Matrix\n",
    "- A confusion matrix is a grid that helps us see how well a classification model is doing by comparing its predictions with the actual outcomes. \n",
    "- It shows us where the model is making correct predictions and where it's getting confused.\n",
    "- It shows counts of true positive, true negative, false positive, and false negative predictions.\n",
    "\n",
    "\n"
   ]
  },
  {
   "cell_type": "code",
   "execution_count": 35,
   "id": "c2c3c722",
   "metadata": {},
   "outputs": [],
   "source": [
    "TP = con_matrix[1,1]\n",
    "TN = con_matrix[0,0]\n",
    "FP = con_matrix[0,1]\n",
    "FN = con_matrix[1,0]"
   ]
  },
  {
   "cell_type": "code",
   "execution_count": 40,
   "id": "3f207cc5",
   "metadata": {},
   "outputs": [],
   "source": [
    "# Precision tells us how many of the predicted positive cases were actually positive\n",
    "precision = TP / (TP + FP)"
   ]
  },
  {
   "cell_type": "code",
   "execution_count": 41,
   "id": "e31cef60",
   "metadata": {},
   "outputs": [
    {
     "data": {
      "text/plain": [
       "0.8728864532513534"
      ]
     },
     "execution_count": 41,
     "metadata": {},
     "output_type": "execute_result"
    }
   ],
   "source": [
    "precision"
   ]
  },
  {
   "cell_type": "code",
   "execution_count": 42,
   "id": "712ca24d",
   "metadata": {},
   "outputs": [],
   "source": [
    "# Recall tells us how many of the actual positive cases were predicted correctly by the model.\n",
    "recall =  TP / (TP + FN)"
   ]
  },
  {
   "cell_type": "code",
   "execution_count": 43,
   "id": "b8e10635",
   "metadata": {},
   "outputs": [
    {
     "data": {
      "text/plain": [
       "0.9000758045620564"
      ]
     },
     "execution_count": 43,
     "metadata": {},
     "output_type": "execute_result"
    }
   ],
   "source": [
    "recall"
   ]
  },
  {
   "cell_type": "code",
   "execution_count": 44,
   "id": "1b9ae480",
   "metadata": {},
   "outputs": [
    {
     "data": {
      "text/plain": [
       "0.8658824470851838"
      ]
     },
     "execution_count": 44,
     "metadata": {},
     "output_type": "execute_result"
    }
   ],
   "source": [
    "# The overall accuracy\n",
    "Acc = (TP+TN) / (TP+TN+FP+FN)\n",
    "Acc"
   ]
  },
  {
   "cell_type": "code",
   "execution_count": 45,
   "id": "d3c961b7",
   "metadata": {},
   "outputs": [
    {
     "name": "stdout",
     "output_type": "stream",
     "text": [
      "Optimization terminated successfully.\n",
      "         Current function value: 0.301630\n",
      "         Iterations 8\n"
     ]
    }
   ],
   "source": [
    "# Using logit to fit model and get a summary of model\n",
    "import statsmodels.api as sm \n",
    "log_reg = sm.Logit(y,X).fit() "
   ]
  },
  {
   "cell_type": "code",
   "execution_count": 46,
   "id": "ea44f0d3",
   "metadata": {},
   "outputs": [
    {
     "name": "stdout",
     "output_type": "stream",
     "text": [
      "                           Logit Regression Results                           \n",
      "==============================================================================\n",
      "Dep. Variable:            active_cust   No. Observations:                99971\n",
      "Model:                          Logit   Df Residuals:                    99963\n",
      "Method:                           MLE   Df Model:                            7\n",
      "Date:                Thu, 22 Feb 2024   Pseudo R-squ.:                  0.5569\n",
      "Time:                        17:56:30   Log-Likelihood:                -30154.\n",
      "converged:                       True   LL-Null:                       -68057.\n",
      "Covariance Type:            nonrobust   LLR p-value:                     0.000\n",
      "==============================================================================\n",
      "                 coef    std err          z      P>|z|      [0.025      0.975]\n",
      "------------------------------------------------------------------------------\n",
      "x1             0.3837      0.025     15.153      0.000       0.334       0.433\n",
      "x2             0.7493      0.022     34.403      0.000       0.707       0.792\n",
      "x3             2.1626      0.017    125.862      0.000       2.129       2.196\n",
      "x4            -0.4655      0.037    -12.505      0.000      -0.538      -0.393\n",
      "x5            -1.0282      0.018    -58.508      0.000      -1.063      -0.994\n",
      "x6             0.0196      0.010      1.902      0.057      -0.001       0.040\n",
      "x7            -0.0224      0.035     -0.643      0.520      -0.091       0.046\n",
      "x8            -1.3476      0.013   -102.508      0.000      -1.373      -1.322\n",
      "==============================================================================\n"
     ]
    }
   ],
   "source": [
    "# Analysing p-value of features to understand the impactful features \n",
    "print(log_reg.summary()) "
   ]
  },
  {
   "cell_type": "code",
   "execution_count": 47,
   "id": "ccf27ee1",
   "metadata": {},
   "outputs": [],
   "source": [
    "# Removing non-impactful features\n",
    "df1 = df.drop('monthly_bill',axis=1)"
   ]
  },
  {
   "cell_type": "code",
   "execution_count": 48,
   "id": "a7c5d0b7",
   "metadata": {},
   "outputs": [],
   "source": [
    "df1.drop('technical_issues_per_month',axis=1,inplace=True)"
   ]
  },
  {
   "cell_type": "code",
   "execution_count": 49,
   "id": "3f5856fa",
   "metadata": {
    "scrolled": true
   },
   "outputs": [
    {
     "name": "stdout",
     "output_type": "stream",
     "text": [
      "<class 'pandas.core.frame.DataFrame'>\n",
      "Int64Index: 99971 entries, 0 to 99999\n",
      "Data columns (total 7 columns):\n",
      " #   Column               Non-Null Count  Dtype\n",
      "---  ------               --------------  -----\n",
      " 0   active_cust          99971 non-null  int64\n",
      " 1   income               99971 non-null  int64\n",
      " 2   months_on_network    99971 non-null  int64\n",
      " 3   Num_complaints       99971 non-null  int64\n",
      " 4   number_plan_changes  99971 non-null  int64\n",
      " 5   relocated            99971 non-null  int64\n",
      " 6   Speed_test_result    99971 non-null  int64\n",
      "dtypes: int64(7)\n",
      "memory usage: 8.1 MB\n"
     ]
    }
   ],
   "source": [
    "df1.info()"
   ]
  },
  {
   "cell_type": "code",
   "execution_count": 50,
   "id": "3be01cc2",
   "metadata": {},
   "outputs": [],
   "source": [
    "# Creating the model again after removing non-impactful features\n",
    "x1 = df.iloc[:,1:]"
   ]
  },
  {
   "cell_type": "code",
   "execution_count": 58,
   "id": "fe9440cc",
   "metadata": {},
   "outputs": [],
   "source": [
    "from sklearn import preprocessing\n",
    "X1 = preprocessing.StandardScaler().fit(x1).transform(x1)"
   ]
  },
  {
   "cell_type": "code",
   "execution_count": 59,
   "id": "f22ddd74",
   "metadata": {},
   "outputs": [],
   "source": [
    "x1_train,x1_test,y1_train,y1_test = train_test_split(X1,y,test_size=0.25,random_state = 1)"
   ]
  },
  {
   "cell_type": "code",
   "execution_count": 60,
   "id": "f1eb3e03",
   "metadata": {},
   "outputs": [
    {
     "data": {
      "text/html": [
       "<style>#sk-container-id-3 {color: black;}#sk-container-id-3 pre{padding: 0;}#sk-container-id-3 div.sk-toggleable {background-color: white;}#sk-container-id-3 label.sk-toggleable__label {cursor: pointer;display: block;width: 100%;margin-bottom: 0;padding: 0.3em;box-sizing: border-box;text-align: center;}#sk-container-id-3 label.sk-toggleable__label-arrow:before {content: \"▸\";float: left;margin-right: 0.25em;color: #696969;}#sk-container-id-3 label.sk-toggleable__label-arrow:hover:before {color: black;}#sk-container-id-3 div.sk-estimator:hover label.sk-toggleable__label-arrow:before {color: black;}#sk-container-id-3 div.sk-toggleable__content {max-height: 0;max-width: 0;overflow: hidden;text-align: left;background-color: #f0f8ff;}#sk-container-id-3 div.sk-toggleable__content pre {margin: 0.2em;color: black;border-radius: 0.25em;background-color: #f0f8ff;}#sk-container-id-3 input.sk-toggleable__control:checked~div.sk-toggleable__content {max-height: 200px;max-width: 100%;overflow: auto;}#sk-container-id-3 input.sk-toggleable__control:checked~label.sk-toggleable__label-arrow:before {content: \"▾\";}#sk-container-id-3 div.sk-estimator input.sk-toggleable__control:checked~label.sk-toggleable__label {background-color: #d4ebff;}#sk-container-id-3 div.sk-label input.sk-toggleable__control:checked~label.sk-toggleable__label {background-color: #d4ebff;}#sk-container-id-3 input.sk-hidden--visually {border: 0;clip: rect(1px 1px 1px 1px);clip: rect(1px, 1px, 1px, 1px);height: 1px;margin: -1px;overflow: hidden;padding: 0;position: absolute;width: 1px;}#sk-container-id-3 div.sk-estimator {font-family: monospace;background-color: #f0f8ff;border: 1px dotted black;border-radius: 0.25em;box-sizing: border-box;margin-bottom: 0.5em;}#sk-container-id-3 div.sk-estimator:hover {background-color: #d4ebff;}#sk-container-id-3 div.sk-parallel-item::after {content: \"\";width: 100%;border-bottom: 1px solid gray;flex-grow: 1;}#sk-container-id-3 div.sk-label:hover label.sk-toggleable__label {background-color: #d4ebff;}#sk-container-id-3 div.sk-serial::before {content: \"\";position: absolute;border-left: 1px solid gray;box-sizing: border-box;top: 0;bottom: 0;left: 50%;z-index: 0;}#sk-container-id-3 div.sk-serial {display: flex;flex-direction: column;align-items: center;background-color: white;padding-right: 0.2em;padding-left: 0.2em;position: relative;}#sk-container-id-3 div.sk-item {position: relative;z-index: 1;}#sk-container-id-3 div.sk-parallel {display: flex;align-items: stretch;justify-content: center;background-color: white;position: relative;}#sk-container-id-3 div.sk-item::before, #sk-container-id-3 div.sk-parallel-item::before {content: \"\";position: absolute;border-left: 1px solid gray;box-sizing: border-box;top: 0;bottom: 0;left: 50%;z-index: -1;}#sk-container-id-3 div.sk-parallel-item {display: flex;flex-direction: column;z-index: 1;position: relative;background-color: white;}#sk-container-id-3 div.sk-parallel-item:first-child::after {align-self: flex-end;width: 50%;}#sk-container-id-3 div.sk-parallel-item:last-child::after {align-self: flex-start;width: 50%;}#sk-container-id-3 div.sk-parallel-item:only-child::after {width: 0;}#sk-container-id-3 div.sk-dashed-wrapped {border: 1px dashed gray;margin: 0 0.4em 0.5em 0.4em;box-sizing: border-box;padding-bottom: 0.4em;background-color: white;}#sk-container-id-3 div.sk-label label {font-family: monospace;font-weight: bold;display: inline-block;line-height: 1.2em;}#sk-container-id-3 div.sk-label-container {text-align: center;}#sk-container-id-3 div.sk-container {/* jupyter's `normalize.less` sets `[hidden] { display: none; }` but bootstrap.min.css set `[hidden] { display: none !important; }` so we also need the `!important` here to be able to override the default hidden behavior on the sphinx rendered scikit-learn.org. See: https://github.com/scikit-learn/scikit-learn/issues/21755 */display: inline-block !important;position: relative;}#sk-container-id-3 div.sk-text-repr-fallback {display: none;}</style><div id=\"sk-container-id-3\" class=\"sk-top-container\"><div class=\"sk-text-repr-fallback\"><pre>LogisticRegression()</pre><b>In a Jupyter environment, please rerun this cell to show the HTML representation or trust the notebook. <br />On GitHub, the HTML representation is unable to render, please try loading this page with nbviewer.org.</b></div><div class=\"sk-container\" hidden><div class=\"sk-item\"><div class=\"sk-estimator sk-toggleable\"><input class=\"sk-toggleable__control sk-hidden--visually\" id=\"sk-estimator-id-3\" type=\"checkbox\" checked><label for=\"sk-estimator-id-3\" class=\"sk-toggleable__label sk-toggleable__label-arrow\">LogisticRegression</label><div class=\"sk-toggleable__content\"><pre>LogisticRegression()</pre></div></div></div></div></div>"
      ],
      "text/plain": [
       "LogisticRegression()"
      ]
     },
     "execution_count": 60,
     "metadata": {},
     "output_type": "execute_result"
    }
   ],
   "source": [
    "from sklearn.linear_model import LogisticRegression\n",
    "LR = LogisticRegression().fit(x1_train,y_train)\n",
    "LR"
   ]
  },
  {
   "cell_type": "code",
   "execution_count": 61,
   "id": "5a8f5ceb",
   "metadata": {},
   "outputs": [],
   "source": [
    "y_pred = LR.predict(x1_test)"
   ]
  },
  {
   "cell_type": "code",
   "execution_count": 66,
   "id": "8640a09b",
   "metadata": {},
   "outputs": [
    {
     "data": {
      "text/plain": [
       "0.8658824470851838"
      ]
     },
     "execution_count": 66,
     "metadata": {},
     "output_type": "execute_result"
    }
   ],
   "source": [
    "from sklearn.metrics import accuracy_score\n",
    "accuracy_score(y1_test,y_pred)"
   ]
  },
  {
   "cell_type": "markdown",
   "id": "0a323fb0",
   "metadata": {},
   "source": [
    "- As we can see theres no difference in accuracy score after removin those non-impactful features.\n",
    "- Meaning they were non-impactful."
   ]
  },
  {
   "cell_type": "code",
   "execution_count": 67,
   "id": "a3808684",
   "metadata": {},
   "outputs": [
    {
     "data": {
      "text/plain": [
       "array([1, 1, 1, ..., 1, 1, 1], dtype=int64)"
      ]
     },
     "execution_count": 67,
     "metadata": {},
     "output_type": "execute_result"
    }
   ],
   "source": [
    "LR.predict(X_test)"
   ]
  },
  {
   "cell_type": "code",
   "execution_count": 68,
   "id": "3d20b73e",
   "metadata": {},
   "outputs": [
    {
     "data": {
      "text/plain": [
       "array([[0.04885738, 0.95114262],\n",
       "       [0.01021322, 0.98978678],\n",
       "       [0.17084016, 0.82915984],\n",
       "       ...,\n",
       "       [0.07798134, 0.92201866],\n",
       "       [0.02738072, 0.97261928],\n",
       "       [0.00875727, 0.99124273]])"
      ]
     },
     "execution_count": 68,
     "metadata": {},
     "output_type": "execute_result"
    }
   ],
   "source": [
    "LR.predict_proba(X_test)"
   ]
  }
 ],
 "metadata": {
  "kernelspec": {
   "display_name": "Python 3 (ipykernel)",
   "language": "python",
   "name": "python3"
  },
  "language_info": {
   "codemirror_mode": {
    "name": "ipython",
    "version": 3
   },
   "file_extension": ".py",
   "mimetype": "text/x-python",
   "name": "python",
   "nbconvert_exporter": "python",
   "pygments_lexer": "ipython3",
   "version": "3.11.4"
  }
 },
 "nbformat": 4,
 "nbformat_minor": 5
}
