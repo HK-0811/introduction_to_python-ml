{
 "cells": [
  {
   "cell_type": "code",
   "execution_count": 3,
   "id": "5a3ffca8",
   "metadata": {},
   "outputs": [],
   "source": [
    "import pandas as pd\n",
    "import numpy as np\n",
    "import matplotlib.pyplot as plt\n",
    "import seaborn as sns\n",
    "import statsmodels.api as sm\n",
    "from sklearn.model_selection import train_test_split"
   ]
  },
  {
   "cell_type": "markdown",
   "id": "e569a5b1",
   "metadata": {},
   "source": [
    "# Regression\n",
    "\n",
    "- Regression means to model the relation between a single dependent and multiple independent variables\n",
    "- Dependent Variables means that change in the Independent variable will affect the dependent variable."
   ]
  },
  {
   "cell_type": "markdown",
   "id": "75bb8d1c",
   "metadata": {},
   "source": [
    "# Correlation\n",
    "\n",
    "- Correlation ranges from 0(Perfect Negative) to 1(Perfect Positive)\n",
    "- Positive correlation means as one variable increases the other one increases aswell\n",
    "- Negative correlation means as one variable decreases the other one decreases aswell"
   ]
  },
  {
   "cell_type": "markdown",
   "id": "3c5f5881",
   "metadata": {},
   "source": [
    "# Simple Linear Regression\n",
    "\n",
    "- Simple linear Regression means to model relation between just two variables\n",
    "- One Variable being Dependent and other being Independent"
   ]
  },
  {
   "cell_type": "code",
   "execution_count": 42,
   "id": "0839f266",
   "metadata": {},
   "outputs": [],
   "source": [
    "# Import Dataset\n",
    "df = pd.read_csv(r\"E:\\HSNC\\SEM 2\\ML\\SLRD1.csv\")"
   ]
  },
  {
   "cell_type": "code",
   "execution_count": 43,
   "id": "1dff7f76",
   "metadata": {},
   "outputs": [
    {
     "data": {
      "text/html": [
       "<div>\n",
       "<style scoped>\n",
       "    .dataframe tbody tr th:only-of-type {\n",
       "        vertical-align: middle;\n",
       "    }\n",
       "\n",
       "    .dataframe tbody tr th {\n",
       "        vertical-align: top;\n",
       "    }\n",
       "\n",
       "    .dataframe thead th {\n",
       "        text-align: right;\n",
       "    }\n",
       "</style>\n",
       "<table border=\"1\" class=\"dataframe\">\n",
       "  <thead>\n",
       "    <tr style=\"text-align: right;\">\n",
       "      <th></th>\n",
       "      <th>Hours</th>\n",
       "      <th>Scores</th>\n",
       "    </tr>\n",
       "  </thead>\n",
       "  <tbody>\n",
       "    <tr>\n",
       "      <th>0</th>\n",
       "      <td>2.5</td>\n",
       "      <td>21.0</td>\n",
       "    </tr>\n",
       "    <tr>\n",
       "      <th>1</th>\n",
       "      <td>5.1</td>\n",
       "      <td>47.0</td>\n",
       "    </tr>\n",
       "    <tr>\n",
       "      <th>2</th>\n",
       "      <td>3.2</td>\n",
       "      <td>27.0</td>\n",
       "    </tr>\n",
       "    <tr>\n",
       "      <th>3</th>\n",
       "      <td>8.5</td>\n",
       "      <td>75.0</td>\n",
       "    </tr>\n",
       "    <tr>\n",
       "      <th>4</th>\n",
       "      <td>3.5</td>\n",
       "      <td>30.0</td>\n",
       "    </tr>\n",
       "  </tbody>\n",
       "</table>\n",
       "</div>"
      ],
      "text/plain": [
       "   Hours   Scores \n",
       "0     2.5     21.0\n",
       "1     5.1     47.0\n",
       "2     3.2     27.0\n",
       "3     8.5     75.0\n",
       "4     3.5     30.0"
      ]
     },
     "execution_count": 43,
     "metadata": {},
     "output_type": "execute_result"
    }
   ],
   "source": [
    "#Print top rows\n",
    "df.head(5)"
   ]
  },
  {
   "cell_type": "code",
   "execution_count": 44,
   "id": "2e991440",
   "metadata": {},
   "outputs": [
    {
     "name": "stdout",
     "output_type": "stream",
     "text": [
      "<class 'pandas.core.frame.DataFrame'>\n",
      "RangeIndex: 26 entries, 0 to 25\n",
      "Data columns (total 2 columns):\n",
      " #   Column   Non-Null Count  Dtype  \n",
      "---  ------   --------------  -----  \n",
      " 0   Hours    25 non-null     float64\n",
      " 1   Scores   25 non-null     float64\n",
      "dtypes: float64(2)\n",
      "memory usage: 548.0 bytes\n"
     ]
    }
   ],
   "source": [
    "#Metadata of the data\n",
    "df.info()"
   ]
  },
  {
   "cell_type": "code",
   "execution_count": 45,
   "id": "3ef63bbf",
   "metadata": {},
   "outputs": [
    {
     "name": "stdout",
     "output_type": "stream",
     "text": [
      "Missing Values in data:\n",
      " Hours      1\n",
      "Scores     1\n",
      "dtype: int64\n"
     ]
    }
   ],
   "source": [
    "#Detecting Missing Values and droping them\n",
    "print(\"Missing Values in data:\\n\",df.isnull().sum())"
   ]
  },
  {
   "cell_type": "code",
   "execution_count": 46,
   "id": "90df963b",
   "metadata": {},
   "outputs": [
    {
     "name": "stdout",
     "output_type": "stream",
     "text": [
      "Missing Values in data:\n",
      " Hours      0\n",
      "Scores     0\n",
      "dtype: int64\n"
     ]
    }
   ],
   "source": [
    "#Droping the missing values as they are very less\n",
    "df.dropna(inplace=True)\n",
    "print(\"Missing Values in data:\\n\",df.isnull().sum())"
   ]
  },
  {
   "cell_type": "code",
   "execution_count": 47,
   "id": "919c9908",
   "metadata": {},
   "outputs": [
    {
     "name": "stdout",
     "output_type": "stream",
     "text": [
      "           Hours    Scores \n",
      "Hours    1.000000  0.976191\n",
      "Scores   0.976191  1.000000\n"
     ]
    },
    {
     "data": {
      "text/plain": [
       "<Axes: >"
      ]
     },
     "execution_count": 47,
     "metadata": {},
     "output_type": "execute_result"
    },
    {
     "data": {
      "image/png": "[encoded data removed]",
      "text/plain": [
       "<Figure size 640x480 with 2 Axes>"
      ]
     },
     "metadata": {},
     "output_type": "display_data"
    }
   ],
   "source": [
    "#This will give us the correlation statistics\n",
    "df.corr\n",
    "print(df.corr())\n",
    "\n",
    "#plotting the correlation\n",
    "#heatmap\n",
    "sns.heatmap(df.corr())"
   ]
  },
  {
   "cell_type": "markdown",
   "id": "0b66933c",
   "metadata": {},
   "source": [
    "- From the correlation statistic we can see that there is 0.9(Perfect Positive Correlation) between the two variables"
   ]
  },
  {
   "cell_type": "code",
   "execution_count": 48,
   "id": "7c0ed93a",
   "metadata": {},
   "outputs": [
    {
     "name": "stdout",
     "output_type": "stream",
     "text": [
      "(25, 2)\n",
      "(25,)\n"
     ]
    }
   ],
   "source": [
    "#Adding constant values\n",
    "x1= sm.add_constant(df['Hours '])\n",
    "y1 = df['Scores ']\n",
    "print(x1.shape)\n",
    "print(y1.shape)"
   ]
  },
  {
   "cell_type": "code",
   "execution_count": 49,
   "id": "7e93c3d6",
   "metadata": {},
   "outputs": [],
   "source": [
    "#Splitting the dataset into training and validation sets\n",
    "x1_train,x1_test,y1_train,y1_test=train_test_split(x1,y1,train_size=0.8,test_size=0.2,random_state = 100)"
   ]
  },
  {
   "cell_type": "code",
   "execution_count": 58,
   "id": "f415ed52",
   "metadata": {},
   "outputs": [],
   "source": [
    "#Fitting the model\n",
    "#Write output variable first (Dependent)\n",
    "score_lm = sm.OLS(y1_train,x1_train).fit()"
   ]
  },
  {
   "cell_type": "code",
   "execution_count": 51,
   "id": "de31a021",
   "metadata": {},
   "outputs": [
    {
     "name": "stdout",
     "output_type": "stream",
     "text": [
      "const     1.989423\n",
      "Hours     9.835444\n",
      "dtype: float64\n"
     ]
    }
   ],
   "source": [
    "print(score_lm.params)"
   ]
  },
  {
   "cell_type": "code",
   "execution_count": 52,
   "id": "b37f7151",
   "metadata": {},
   "outputs": [
    {
     "data": {
      "text/html": [
       "<table class=\"simpletable\">\n",
       "<caption>OLS Regression Results</caption>\n",
       "<tr>\n",
       "  <th>Dep. Variable:</th>         <td>Scores </td>     <th>  R-squared:         </th> <td>   0.952</td>\n",
       "</tr>\n",
       "<tr>\n",
       "  <th>Model:</th>                   <td>OLS</td>       <th>  Adj. R-squared:    </th> <td>   0.949</td>\n",
       "</tr>\n",
       "<tr>\n",
       "  <th>Method:</th>             <td>Least Squares</td>  <th>  F-statistic:       </th> <td>   356.7</td>\n",
       "</tr>\n",
       "<tr>\n",
       "  <th>Date:</th>             <td>Fri, 26 Jan 2024</td> <th>  Prob (F-statistic):</th> <td>2.59e-13</td>\n",
       "</tr>\n",
       "<tr>\n",
       "  <th>Time:</th>                 <td>17:39:35</td>     <th>  Log-Likelihood:    </th> <td> -62.724</td>\n",
       "</tr>\n",
       "<tr>\n",
       "  <th>No. Observations:</th>      <td>    20</td>      <th>  AIC:               </th> <td>   129.4</td>\n",
       "</tr>\n",
       "<tr>\n",
       "  <th>Df Residuals:</th>          <td>    18</td>      <th>  BIC:               </th> <td>   131.4</td>\n",
       "</tr>\n",
       "<tr>\n",
       "  <th>Df Model:</th>              <td>     1</td>      <th>                     </th>     <td> </td>   \n",
       "</tr>\n",
       "<tr>\n",
       "  <th>Covariance Type:</th>      <td>nonrobust</td>    <th>                     </th>     <td> </td>   \n",
       "</tr>\n",
       "</table>\n",
       "<table class=\"simpletable\">\n",
       "<tr>\n",
       "     <td></td>       <th>coef</th>     <th>std err</th>      <th>t</th>      <th>P>|t|</th>  <th>[0.025</th>    <th>0.975]</th>  \n",
       "</tr>\n",
       "<tr>\n",
       "  <th>const</th>  <td>    1.9894</td> <td>    3.106</td> <td>    0.641</td> <td> 0.530</td> <td>   -4.536</td> <td>    8.515</td>\n",
       "</tr>\n",
       "<tr>\n",
       "  <th>Hours </th> <td>    9.8354</td> <td>    0.521</td> <td>   18.886</td> <td> 0.000</td> <td>    8.741</td> <td>   10.930</td>\n",
       "</tr>\n",
       "</table>\n",
       "<table class=\"simpletable\">\n",
       "<tr>\n",
       "  <th>Omnibus:</th>       <td> 7.040</td> <th>  Durbin-Watson:     </th> <td>   2.025</td>\n",
       "</tr>\n",
       "<tr>\n",
       "  <th>Prob(Omnibus):</th> <td> 0.030</td> <th>  Jarque-Bera (JB):  </th> <td>   1.943</td>\n",
       "</tr>\n",
       "<tr>\n",
       "  <th>Skew:</th>          <td>-0.248</td> <th>  Prob(JB):          </th> <td>   0.379</td>\n",
       "</tr>\n",
       "<tr>\n",
       "  <th>Kurtosis:</th>      <td> 1.556</td> <th>  Cond. No.          </th> <td>    14.4</td>\n",
       "</tr>\n",
       "</table><br/><br/>Notes:<br/>[1] Standard Errors assume that the covariance matrix of the errors is correctly specified."
      ],
      "text/latex": [
       "\\begin{center}\n",
       "\\begin{tabular}{lclc}\n",
       "\\toprule\n",
       "\\textbf{Dep. Variable:}    &     Scores       & \\textbf{  R-squared:         } &     0.952   \\\\\n",
       "\\textbf{Model:}            &       OLS        & \\textbf{  Adj. R-squared:    } &     0.949   \\\\\n",
       "\\textbf{Method:}           &  Least Squares   & \\textbf{  F-statistic:       } &     356.7   \\\\\n",
       "\\textbf{Date:}             & Fri, 26 Jan 2024 & \\textbf{  Prob (F-statistic):} &  2.59e-13   \\\\\n",
       "\\textbf{Time:}             &     17:39:35     & \\textbf{  Log-Likelihood:    } &   -62.724   \\\\\n",
       "\\textbf{No. Observations:} &          20      & \\textbf{  AIC:               } &     129.4   \\\\\n",
       "\\textbf{Df Residuals:}     &          18      & \\textbf{  BIC:               } &     131.4   \\\\\n",
       "\\textbf{Df Model:}         &           1      & \\textbf{                     } &             \\\\\n",
       "\\textbf{Covariance Type:}  &    nonrobust     & \\textbf{                     } &             \\\\\n",
       "\\bottomrule\n",
       "\\end{tabular}\n",
       "\\begin{tabular}{lcccccc}\n",
       "                & \\textbf{coef} & \\textbf{std err} & \\textbf{t} & \\textbf{P$> |$t$|$} & \\textbf{[0.025} & \\textbf{0.975]}  \\\\\n",
       "\\midrule\n",
       "\\textbf{const}  &       1.9894  &        3.106     &     0.641  &         0.530        &       -4.536    &        8.515     \\\\\n",
       "\\textbf{Hours } &       9.8354  &        0.521     &    18.886  &         0.000        &        8.741    &       10.930     \\\\\n",
       "\\bottomrule\n",
       "\\end{tabular}\n",
       "\\begin{tabular}{lclc}\n",
       "\\textbf{Omnibus:}       &  7.040 & \\textbf{  Durbin-Watson:     } &    2.025  \\\\\n",
       "\\textbf{Prob(Omnibus):} &  0.030 & \\textbf{  Jarque-Bera (JB):  } &    1.943  \\\\\n",
       "\\textbf{Skew:}          & -0.248 & \\textbf{  Prob(JB):          } &    0.379  \\\\\n",
       "\\textbf{Kurtosis:}      &  1.556 & \\textbf{  Cond. No.          } &     14.4  \\\\\n",
       "\\bottomrule\n",
       "\\end{tabular}\n",
       "%\\caption{OLS Regression Results}\n",
       "\\end{center}\n",
       "\n",
       "Notes: \\newline\n",
       " [1] Standard Errors assume that the covariance matrix of the errors is correctly specified."
      ],
      "text/plain": [
       "<class 'statsmodels.iolib.summary.Summary'>\n",
       "\"\"\"\n",
       "                            OLS Regression Results                            \n",
       "==============================================================================\n",
       "Dep. Variable:                Scores    R-squared:                       0.952\n",
       "Model:                            OLS   Adj. R-squared:                  0.949\n",
       "Method:                 Least Squares   F-statistic:                     356.7\n",
       "Date:                Fri, 26 Jan 2024   Prob (F-statistic):           2.59e-13\n",
       "Time:                        17:39:35   Log-Likelihood:                -62.724\n",
       "No. Observations:                  20   AIC:                             129.4\n",
       "Df Residuals:                      18   BIC:                             131.4\n",
       "Df Model:                           1                                         \n",
       "Covariance Type:            nonrobust                                         \n",
       "==============================================================================\n",
       "                 coef    std err          t      P>|t|      [0.025      0.975]\n",
       "------------------------------------------------------------------------------\n",
       "const          1.9894      3.106      0.641      0.530      -4.536       8.515\n",
       "Hours          9.8354      0.521     18.886      0.000       8.741      10.930\n",
       "==============================================================================\n",
       "Omnibus:                        7.040   Durbin-Watson:                   2.025\n",
       "Prob(Omnibus):                  0.030   Jarque-Bera (JB):                1.943\n",
       "Skew:                          -0.248   Prob(JB):                        0.379\n",
       "Kurtosis:                       1.556   Cond. No.                         14.4\n",
       "==============================================================================\n",
       "\n",
       "Notes:\n",
       "[1] Standard Errors assume that the covariance matrix of the errors is correctly specified.\n",
       "\"\"\""
      ]
     },
     "execution_count": 52,
     "metadata": {},
     "output_type": "execute_result"
    }
   ],
   "source": [
    "score_lm.summary()"
   ]
  },
  {
   "cell_type": "markdown",
   "id": "d8547357",
   "metadata": {},
   "source": [
    "# The model is best fit as r squared values is less"
   ]
  },
  {
   "cell_type": "code",
   "execution_count": null,
   "id": "59c740e4",
   "metadata": {},
   "outputs": [],
   "source": [
    "\n"
   ]
  },
  {
   "cell_type": "code",
   "execution_count": 59,
   "id": "e32b54ef",
   "metadata": {},
   "outputs": [],
   "source": [
    "#Q.2)\n",
    "data = pd.read_csv(r\"E:\\HSNC\\SEM 2\\ML\\MBA Salary.csv\")"
   ]
  },
  {
   "cell_type": "code",
   "execution_count": 60,
   "id": "b6021155",
   "metadata": {},
   "outputs": [
    {
     "name": "stdout",
     "output_type": "stream",
     "text": [
      "                          S. No.  Percentage in Grade 10    Salary\n",
      "S. No.                  1.000000               -0.036681  0.018311\n",
      "Percentage in Grade 10 -0.036681                1.000000  0.395367\n",
      "Salary                  0.018311                0.395367  1.000000\n"
     ]
    },
    {
     "data": {
      "text/plain": [
       "<Axes: >"
      ]
     },
     "execution_count": 60,
     "metadata": {},
     "output_type": "execute_result"
    },
    {
     "data": {
      "image/png": "[encoded data removed]",
      "text/plain": [
       "<Figure size 640x480 with 2 Axes>"
      ]
     },
     "metadata": {},
     "output_type": "display_data"
    }
   ],
   "source": [
    "data.corr\n",
    "print(data.corr())\n",
    "\n",
    "#Heatmap\n",
    "sns.heatmap(data.corr())"
   ]
  },
  {
   "cell_type": "code",
   "execution_count": 61,
   "id": "1155b1b5",
   "metadata": {},
   "outputs": [
    {
     "name": "stdout",
     "output_type": "stream",
     "text": [
      "(50, 2)\n",
      "(50,)\n"
     ]
    }
   ],
   "source": [
    "x= sm.add_constant(data['Percentage in Grade 10'])\n",
    "y = data['Salary']\n",
    "print(x.shape)\n",
    "print(y.shape)"
   ]
  },
  {
   "cell_type": "code",
   "execution_count": 62,
   "id": "4a7b82c5",
   "metadata": {},
   "outputs": [],
   "source": [
    "#Splitting the dataset into training and validation sets"
   ]
  },
  {
   "cell_type": "code",
   "execution_count": 63,
   "id": "6d5b5983",
   "metadata": {},
   "outputs": [],
   "source": [
    "x_train,x_test,y_train,y_test=train_test_split(x,y,train_size=0.8,test_size=0.2,random_state = 100)"
   ]
  },
  {
   "cell_type": "code",
   "execution_count": 64,
   "id": "a69a369f",
   "metadata": {},
   "outputs": [],
   "source": [
    "#fitting the model\n",
    "salary_lm = sm.OLS(y_train,x_train).fit() #output must be wriiten first"
   ]
  },
  {
   "cell_type": "code",
   "execution_count": 65,
   "id": "c63f5104",
   "metadata": {},
   "outputs": [
    {
     "name": "stdout",
     "output_type": "stream",
     "text": [
      "const                     30587.285652\n",
      "Percentage in Grade 10     3560.587383\n",
      "dtype: float64\n"
     ]
    }
   ],
   "source": [
    "print(salary_lm.params)"
   ]
  },
  {
   "cell_type": "code",
   "execution_count": 66,
   "id": "398668b7",
   "metadata": {},
   "outputs": [
    {
     "data": {
      "text/html": [
       "<table class=\"simpletable\">\n",
       "<caption>OLS Regression Results</caption>\n",
       "<tr>\n",
       "  <th>Dep. Variable:</th>         <td>Salary</td>      <th>  R-squared:         </th> <td>   0.211</td>\n",
       "</tr>\n",
       "<tr>\n",
       "  <th>Model:</th>                   <td>OLS</td>       <th>  Adj. R-squared:    </th> <td>   0.190</td>\n",
       "</tr>\n",
       "<tr>\n",
       "  <th>Method:</th>             <td>Least Squares</td>  <th>  F-statistic:       </th> <td>   10.16</td>\n",
       "</tr>\n",
       "<tr>\n",
       "  <th>Date:</th>             <td>Fri, 26 Jan 2024</td> <th>  Prob (F-statistic):</th>  <td>0.00287</td>\n",
       "</tr>\n",
       "<tr>\n",
       "  <th>Time:</th>                 <td>17:45:09</td>     <th>  Log-Likelihood:    </th> <td> -502.43</td>\n",
       "</tr>\n",
       "<tr>\n",
       "  <th>No. Observations:</th>      <td>    40</td>      <th>  AIC:               </th> <td>   1009.</td>\n",
       "</tr>\n",
       "<tr>\n",
       "  <th>Df Residuals:</th>          <td>    38</td>      <th>  BIC:               </th> <td>   1012.</td>\n",
       "</tr>\n",
       "<tr>\n",
       "  <th>Df Model:</th>              <td>     1</td>      <th>                     </th>     <td> </td>   \n",
       "</tr>\n",
       "<tr>\n",
       "  <th>Covariance Type:</th>      <td>nonrobust</td>    <th>                     </th>     <td> </td>   \n",
       "</tr>\n",
       "</table>\n",
       "<table class=\"simpletable\">\n",
       "<tr>\n",
       "             <td></td>               <th>coef</th>     <th>std err</th>      <th>t</th>      <th>P>|t|</th>  <th>[0.025</th>    <th>0.975]</th>  \n",
       "</tr>\n",
       "<tr>\n",
       "  <th>const</th>                  <td> 3.059e+04</td> <td> 7.19e+04</td> <td>    0.426</td> <td> 0.673</td> <td>-1.15e+05</td> <td> 1.76e+05</td>\n",
       "</tr>\n",
       "<tr>\n",
       "  <th>Percentage in Grade 10</th> <td> 3560.5874</td> <td> 1116.926</td> <td>    3.188</td> <td> 0.003</td> <td> 1299.489</td> <td> 5821.686</td>\n",
       "</tr>\n",
       "</table>\n",
       "<table class=\"simpletable\">\n",
       "<tr>\n",
       "  <th>Omnibus:</th>       <td> 2.048</td> <th>  Durbin-Watson:     </th> <td>   2.611</td>\n",
       "</tr>\n",
       "<tr>\n",
       "  <th>Prob(Omnibus):</th> <td> 0.359</td> <th>  Jarque-Bera (JB):  </th> <td>   1.724</td>\n",
       "</tr>\n",
       "<tr>\n",
       "  <th>Skew:</th>          <td> 0.369</td> <th>  Prob(JB):          </th> <td>   0.422</td>\n",
       "</tr>\n",
       "<tr>\n",
       "  <th>Kurtosis:</th>      <td> 2.300</td> <th>  Cond. No.          </th> <td>    413.</td>\n",
       "</tr>\n",
       "</table><br/><br/>Notes:<br/>[1] Standard Errors assume that the covariance matrix of the errors is correctly specified."
      ],
      "text/latex": [
       "\\begin{center}\n",
       "\\begin{tabular}{lclc}\n",
       "\\toprule\n",
       "\\textbf{Dep. Variable:}         &      Salary      & \\textbf{  R-squared:         } &     0.211   \\\\\n",
       "\\textbf{Model:}                 &       OLS        & \\textbf{  Adj. R-squared:    } &     0.190   \\\\\n",
       "\\textbf{Method:}                &  Least Squares   & \\textbf{  F-statistic:       } &     10.16   \\\\\n",
       "\\textbf{Date:}                  & Fri, 26 Jan 2024 & \\textbf{  Prob (F-statistic):} &  0.00287    \\\\\n",
       "\\textbf{Time:}                  &     17:45:09     & \\textbf{  Log-Likelihood:    } &   -502.43   \\\\\n",
       "\\textbf{No. Observations:}      &          40      & \\textbf{  AIC:               } &     1009.   \\\\\n",
       "\\textbf{Df Residuals:}          &          38      & \\textbf{  BIC:               } &     1012.   \\\\\n",
       "\\textbf{Df Model:}              &           1      & \\textbf{                     } &             \\\\\n",
       "\\textbf{Covariance Type:}       &    nonrobust     & \\textbf{                     } &             \\\\\n",
       "\\bottomrule\n",
       "\\end{tabular}\n",
       "\\begin{tabular}{lcccccc}\n",
       "                                & \\textbf{coef} & \\textbf{std err} & \\textbf{t} & \\textbf{P$> |$t$|$} & \\textbf{[0.025} & \\textbf{0.975]}  \\\\\n",
       "\\midrule\n",
       "\\textbf{const}                  &    3.059e+04  &     7.19e+04     &     0.426  &         0.673        &    -1.15e+05    &     1.76e+05     \\\\\n",
       "\\textbf{Percentage in Grade 10} &    3560.5874  &     1116.926     &     3.188  &         0.003        &     1299.489    &     5821.686     \\\\\n",
       "\\bottomrule\n",
       "\\end{tabular}\n",
       "\\begin{tabular}{lclc}\n",
       "\\textbf{Omnibus:}       &  2.048 & \\textbf{  Durbin-Watson:     } &    2.611  \\\\\n",
       "\\textbf{Prob(Omnibus):} &  0.359 & \\textbf{  Jarque-Bera (JB):  } &    1.724  \\\\\n",
       "\\textbf{Skew:}          &  0.369 & \\textbf{  Prob(JB):          } &    0.422  \\\\\n",
       "\\textbf{Kurtosis:}      &  2.300 & \\textbf{  Cond. No.          } &     413.  \\\\\n",
       "\\bottomrule\n",
       "\\end{tabular}\n",
       "%\\caption{OLS Regression Results}\n",
       "\\end{center}\n",
       "\n",
       "Notes: \\newline\n",
       " [1] Standard Errors assume that the covariance matrix of the errors is correctly specified."
      ],
      "text/plain": [
       "<class 'statsmodels.iolib.summary.Summary'>\n",
       "\"\"\"\n",
       "                            OLS Regression Results                            \n",
       "==============================================================================\n",
       "Dep. Variable:                 Salary   R-squared:                       0.211\n",
       "Model:                            OLS   Adj. R-squared:                  0.190\n",
       "Method:                 Least Squares   F-statistic:                     10.16\n",
       "Date:                Fri, 26 Jan 2024   Prob (F-statistic):            0.00287\n",
       "Time:                        17:45:09   Log-Likelihood:                -502.43\n",
       "No. Observations:                  40   AIC:                             1009.\n",
       "Df Residuals:                      38   BIC:                             1012.\n",
       "Df Model:                           1                                         \n",
       "Covariance Type:            nonrobust                                         \n",
       "==========================================================================================\n",
       "                             coef    std err          t      P>|t|      [0.025      0.975]\n",
       "------------------------------------------------------------------------------------------\n",
       "const                   3.059e+04   7.19e+04      0.426      0.673   -1.15e+05    1.76e+05\n",
       "Percentage in Grade 10  3560.5874   1116.926      3.188      0.003    1299.489    5821.686\n",
       "==============================================================================\n",
       "Omnibus:                        2.048   Durbin-Watson:                   2.611\n",
       "Prob(Omnibus):                  0.359   Jarque-Bera (JB):                1.724\n",
       "Skew:                           0.369   Prob(JB):                        0.422\n",
       "Kurtosis:                       2.300   Cond. No.                         413.\n",
       "==============================================================================\n",
       "\n",
       "Notes:\n",
       "[1] Standard Errors assume that the covariance matrix of the errors is correctly specified.\n",
       "\"\"\""
      ]
     },
     "execution_count": 66,
     "metadata": {},
     "output_type": "execute_result"
    }
   ],
   "source": [
    "salary_lm.summary()"
   ]
  },
  {
   "cell_type": "markdown",
   "id": "ac4c400e",
   "metadata": {},
   "source": [
    "# The model is not best fit as r squared value is less"
   ]
  }
 ],
 "metadata": {
  "kernelspec": {
   "display_name": "Python 3 (ipykernel)",
   "language": "python",
   "name": "python3"
  },
  "language_info": {
   "codemirror_mode": {
    "name": "ipython",
    "version": 3
   },
   "file_extension": ".py",
   "mimetype": "text/x-python",
   "name": "python",
   "nbconvert_exporter": "python",
   "pygments_lexer": "ipython3",
   "version": "3.11.4"
  }
 },
 "nbformat": 4,
 "nbformat_minor": 5
}
