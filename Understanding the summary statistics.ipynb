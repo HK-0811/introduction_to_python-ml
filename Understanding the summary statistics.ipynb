{
 "cells": [
  {
   "cell_type": "code",
   "execution_count": 1,
   "id": "2cfe85df",
   "metadata": {},
   "outputs": [],
   "source": [
    "import pandas as pd\n",
    "import statsmodels.api as sm\n",
    "from sklearn.model_selection import train_test_split"
   ]
  },
  {
   "cell_type": "markdown",
   "id": "80136e9f",
   "metadata": {},
   "source": [
    "# Summary Statistics\n",
    "\n",
    "- We use the summary() method to summarize the regression model.\n",
    "- The summary includes statistical summary of the model.\n",
    "- With the help of this we can conclude if the model is a best fit or not.\n",
    "- It contains various parameters which help us understand the model.\n"
   ]
  },
  {
   "cell_type": "code",
   "execution_count": 3,
   "id": "9577a245",
   "metadata": {},
   "outputs": [],
   "source": [
    "data = pd.read_csv(r\"E:\\HSNC\\SEM 2\\ML\\MBA Salary.csv\")"
   ]
  },
  {
   "cell_type": "code",
   "execution_count": 5,
   "id": "79948621",
   "metadata": {},
   "outputs": [
    {
     "name": "stdout",
     "output_type": "stream",
     "text": [
      "(50, 2)\n",
      "(50,)\n"
     ]
    }
   ],
   "source": [
    "x= sm.add_constant(data['Percentage in Grade 10'])\n",
    "y = data['Salary']\n",
    "print(x.shape)\n",
    "print(y.shape)"
   ]
  },
  {
   "cell_type": "code",
   "execution_count": 8,
   "id": "c73cb633",
   "metadata": {},
   "outputs": [
    {
     "name": "stdout",
     "output_type": "stream",
     "text": [
      "                            OLS Regression Results                            \n",
      "==============================================================================\n",
      "Dep. Variable:                 Salary   R-squared:                       0.211\n",
      "Model:                            OLS   Adj. R-squared:                  0.190\n",
      "Method:                 Least Squares   F-statistic:                     10.16\n",
      "Date:                Sat, 03 Feb 2024   Prob (F-statistic):            0.00287\n",
      "Time:                        11:00:48   Log-Likelihood:                -502.43\n",
      "No. Observations:                  40   AIC:                             1009.\n",
      "Df Residuals:                      38   BIC:                             1012.\n",
      "Df Model:                           1                                         \n",
      "Covariance Type:            nonrobust                                         \n",
      "==========================================================================================\n",
      "                             coef    std err          t      P>|t|      [0.025      0.975]\n",
      "------------------------------------------------------------------------------------------\n",
      "const                   3.059e+04   7.19e+04      0.426      0.673   -1.15e+05    1.76e+05\n",
      "Percentage in Grade 10  3560.5874   1116.926      3.188      0.003    1299.489    5821.686\n",
      "==============================================================================\n",
      "Omnibus:                        2.048   Durbin-Watson:                   2.611\n",
      "Prob(Omnibus):                  0.359   Jarque-Bera (JB):                1.724\n",
      "Skew:                           0.369   Prob(JB):                        0.422\n",
      "Kurtosis:                       2.300   Cond. No.                         413.\n",
      "==============================================================================\n",
      "\n",
      "Notes:\n",
      "[1] Standard Errors assume that the covariance matrix of the errors is correctly specified.\n"
     ]
    }
   ],
   "source": [
    "x_train,x_test,y_train,y_test=train_test_split(x,y,train_size=0.8,test_size=0.2,random_state = 100)\n",
    "salary_lm = sm.OLS(y_train,x_train).fit() \n",
    "print(salary_lm.summary())"
   ]
  },
  {
   "cell_type": "markdown",
   "id": "a50eb9e4",
   "metadata": {},
   "source": [
    "# Let's Understand the Parameters that determines the Fit of a model."
   ]
  },
  {
   "cell_type": "markdown",
   "id": "a1657e09",
   "metadata": {},
   "source": [
    "# 1. R-squared and Adjusted R-squared"
   ]
  },
  {
   "cell_type": "markdown",
   "id": "aabc9073",
   "metadata": {},
   "source": [
    "# R-squared\n",
    "\n",
    "- R-squared is the coefficient of determination\n",
    "- Its value ranges from 0 (not a good fit) to 1 (best fit)\n",
    "- When the value is 1 or 100% it states that the changes in independent variable, completely explains all changes in dependent variable.\n",
    "- That's Why if value is 1, it is considered a Best Fit.\n",
    "\n",
    "# Adjusted R-squared\n",
    "\n",
    "- We can't rely totally upon R-squared values, So we have an adjusted one.\n",
    "- The reason is, R-squared values are influenced by the number of features\n",
    "- So the more the number of features more the  R-squared value\n",
    "- That's why relying on Adj. R-squared is better \n",
    "- Now the value of  Adj. R-squared should also range from 0 to 1.\n",
    "- Also the difference between  R-squared and Adj.R-squared must be less to be considered."
   ]
  },
  {
   "cell_type": "markdown",
   "id": "b7a23bd5",
   "metadata": {},
   "source": [
    "In our example :\n",
    "- Both values are close to zero and their differnece is also less\n",
    "- So the model is not a Best Fit."
   ]
  },
  {
   "cell_type": "markdown",
   "id": "97ee4602",
   "metadata": {},
   "source": []
  },
  {
   "cell_type": "markdown",
   "id": "60f3e1a5",
   "metadata": {},
   "source": [
    "# 2. T and F Statistic\n",
    "\n",
    "- T-test here is used for understanding the impact of an individual independent variable.\n",
    "- F-test here is used for understanding the impact of an all variables.\n",
    "- Both values must be less than 0.05, to consider it to be impactfull.\n",
    "- As we reject Null Hypothesis, if value is less than 0.05 (alpha)."
   ]
  },
  {
   "cell_type": "markdown",
   "id": "d4534b20",
   "metadata": {},
   "source": [
    "In our example:\n",
    "\n",
    "- The t value (P>|t|) for vairable \"Percentage in Grade 10\" is 0.003, which is less than 0.05.\n",
    "- So we can state that variable has a significant impact.\n",
    "- The f-value (Prob (F-statistic)) is 0.00287, which is less than 0.05.\n",
    "- It means Overall all the features are statistically significant.\n",
    "- In multiple linear regression, it is very usefull as there are multiple variables.\n"
   ]
  },
  {
   "cell_type": "markdown",
   "id": "0212064a",
   "metadata": {},
   "source": []
  },
  {
   "cell_type": "markdown",
   "id": "39d32893",
   "metadata": {},
   "source": [
    "# Other Parameters"
   ]
  },
  {
   "cell_type": "markdown",
   "id": "9af9d1b4",
   "metadata": {},
   "source": [
    "All Parameters in the last columnn shows statistics for Residuals\n",
    "\n",
    "- Omnibus: Shows Normality of Residuals\n",
    "- Durbin-Watson: Auto-Correlation of Residuals"
   ]
  },
  {
   "cell_type": "code",
   "execution_count": null,
   "id": "94eb01e9",
   "metadata": {},
   "outputs": [],
   "source": []
  }
 ],
 "metadata": {
  "kernelspec": {
   "display_name": "Python 3 (ipykernel)",
   "language": "python",
   "name": "python3"
  },
  "language_info": {
   "codemirror_mode": {
    "name": "ipython",
    "version": 3
   },
   "file_extension": ".py",
   "mimetype": "text/x-python",
   "name": "python",
   "nbconvert_exporter": "python",
   "pygments_lexer": "ipython3",
   "version": "3.11.4"
  }
 },
 "nbformat": 4,
 "nbformat_minor": 5
}
